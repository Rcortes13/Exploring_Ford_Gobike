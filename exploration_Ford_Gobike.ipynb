{
 "cells": [
  {
   "cell_type": "markdown",
   "metadata": {},
   "source": [
    "# Ford Gobike Data Exploration\n",
    "## by Ricardo Cortes\n",
    "\n",
    "## Table of Contents\n",
    "- [Introduction](#Introduction)\n",
    "- [Preliminary Wrangling](#Preliminary-Wrangling)\n",
    "- [Univariate Exploration](#Univariate-Exploration)\n",
    "- [Bivariate Exploration](#Bivariate-Exploration)\n",
    "- [Multivariate Exploration](#Multivariate-Exploration)\n",
    "- [Summary](#Summary)\n"
   ]
  },
  {
   "cell_type": "markdown",
   "metadata": {},
   "source": [
    "<a id=\"Introduction\"></a>\n",
    "# Introduction\n",
    "    Ford GoBike, like other bike share systems, consists of a fleet of specially designed, sturdy and durable bikes that are locked into a network of docking stations throughout the city. The bikes can be unlocked from one station and returned to any other station in the system, making them ideal for one-way trips. People use bike share to commute to work or school, run errands, get to appointments or social engagements and more. It's a fun, convenient and affordable way to get around.\n",
    "\n",
    "    The bikes are available for use 24 hours/day, 7 days/week, 365 days/year and riders have access to all bikes in the network when they become a member or purchase a pass."
   ]
  },
  {
   "cell_type": "markdown",
   "metadata": {},
   "source": [
    "<a id=\"Preliminary-Wrangling\"></a>\n",
    "## Preliminary Wrangling"
   ]
  },
  {
   "cell_type": "code",
   "execution_count": 1,
   "metadata": {},
   "outputs": [],
   "source": [
    "# import all packages and set plots to be embedded inline\n",
    "import numpy as np\n",
    "import pandas as pd\n",
    "import matplotlib.pyplot as plt\n",
    "import seaborn as sb\n",
    "import datetime\n",
    "%matplotlib inline"
   ]
  },
  {
   "cell_type": "code",
   "execution_count": 2,
   "metadata": {},
   "outputs": [
    {
     "data": {
      "text/html": [
       "<div>\n",
       "<style scoped>\n",
       "    .dataframe tbody tr th:only-of-type {\n",
       "        vertical-align: middle;\n",
       "    }\n",
       "\n",
       "    .dataframe tbody tr th {\n",
       "        vertical-align: top;\n",
       "    }\n",
       "\n",
       "    .dataframe thead th {\n",
       "        text-align: right;\n",
       "    }\n",
       "</style>\n",
       "<table border=\"1\" class=\"dataframe\">\n",
       "  <thead>\n",
       "    <tr style=\"text-align: right;\">\n",
       "      <th></th>\n",
       "      <th>duration_sec</th>\n",
       "      <th>start_time</th>\n",
       "      <th>end_time</th>\n",
       "      <th>start_station_id</th>\n",
       "      <th>start_station_name</th>\n",
       "      <th>start_station_latitude</th>\n",
       "      <th>start_station_longitude</th>\n",
       "      <th>end_station_id</th>\n",
       "      <th>end_station_name</th>\n",
       "      <th>end_station_latitude</th>\n",
       "      <th>end_station_longitude</th>\n",
       "      <th>bike_id</th>\n",
       "      <th>user_type</th>\n",
       "      <th>bike_share_for_all_trip</th>\n",
       "    </tr>\n",
       "  </thead>\n",
       "  <tbody>\n",
       "    <tr>\n",
       "      <th>0</th>\n",
       "      <td>50305</td>\n",
       "      <td>2019-04-30 22:33:55.1550</td>\n",
       "      <td>2019-05-01 12:32:20.4540</td>\n",
       "      <td>368.0</td>\n",
       "      <td>Myrtle St at Polk St</td>\n",
       "      <td>37.785434</td>\n",
       "      <td>-122.419622</td>\n",
       "      <td>324.0</td>\n",
       "      <td>Union Square (Powell St at Post St)</td>\n",
       "      <td>37.788300</td>\n",
       "      <td>-122.408531</td>\n",
       "      <td>2749</td>\n",
       "      <td>Subscriber</td>\n",
       "      <td>No</td>\n",
       "    </tr>\n",
       "    <tr>\n",
       "      <th>1</th>\n",
       "      <td>53725</td>\n",
       "      <td>2019-04-30 20:43:41.6320</td>\n",
       "      <td>2019-05-01 11:39:06.9170</td>\n",
       "      <td>246.0</td>\n",
       "      <td>Berkeley Civic Center</td>\n",
       "      <td>37.869060</td>\n",
       "      <td>-122.270556</td>\n",
       "      <td>241.0</td>\n",
       "      <td>Ashby BART Station</td>\n",
       "      <td>37.852477</td>\n",
       "      <td>-122.270213</td>\n",
       "      <td>2608</td>\n",
       "      <td>Customer</td>\n",
       "      <td>No</td>\n",
       "    </tr>\n",
       "    <tr>\n",
       "      <th>2</th>\n",
       "      <td>78072</td>\n",
       "      <td>2019-04-30 10:32:46.4890</td>\n",
       "      <td>2019-05-01 08:13:58.9750</td>\n",
       "      <td>64.0</td>\n",
       "      <td>5th St at Brannan St</td>\n",
       "      <td>37.776754</td>\n",
       "      <td>-122.399018</td>\n",
       "      <td>64.0</td>\n",
       "      <td>5th St at Brannan St</td>\n",
       "      <td>37.776754</td>\n",
       "      <td>-122.399018</td>\n",
       "      <td>258</td>\n",
       "      <td>Subscriber</td>\n",
       "      <td>No</td>\n",
       "    </tr>\n",
       "    <tr>\n",
       "      <th>3</th>\n",
       "      <td>78969</td>\n",
       "      <td>2019-04-30 10:00:51.5500</td>\n",
       "      <td>2019-05-01 07:57:01.2620</td>\n",
       "      <td>67.0</td>\n",
       "      <td>San Francisco Caltrain Station 2  (Townsend St...</td>\n",
       "      <td>37.776639</td>\n",
       "      <td>-122.395526</td>\n",
       "      <td>89.0</td>\n",
       "      <td>Division St at Potrero Ave</td>\n",
       "      <td>37.769218</td>\n",
       "      <td>-122.407646</td>\n",
       "      <td>1974</td>\n",
       "      <td>Subscriber</td>\n",
       "      <td>No</td>\n",
       "    </tr>\n",
       "    <tr>\n",
       "      <th>4</th>\n",
       "      <td>1128</td>\n",
       "      <td>2019-04-30 23:59:04.7390</td>\n",
       "      <td>2019-05-01 00:17:53.0910</td>\n",
       "      <td>124.0</td>\n",
       "      <td>19th St at Florida St</td>\n",
       "      <td>37.760447</td>\n",
       "      <td>-122.410807</td>\n",
       "      <td>5.0</td>\n",
       "      <td>Powell St BART Station (Market St at 5th St)</td>\n",
       "      <td>37.783899</td>\n",
       "      <td>-122.408445</td>\n",
       "      <td>877</td>\n",
       "      <td>Subscriber</td>\n",
       "      <td>No</td>\n",
       "    </tr>\n",
       "  </tbody>\n",
       "</table>\n",
       "</div>"
      ],
      "text/plain": [
       "   duration_sec                start_time                  end_time  \\\n",
       "0         50305  2019-04-30 22:33:55.1550  2019-05-01 12:32:20.4540   \n",
       "1         53725  2019-04-30 20:43:41.6320  2019-05-01 11:39:06.9170   \n",
       "2         78072  2019-04-30 10:32:46.4890  2019-05-01 08:13:58.9750   \n",
       "3         78969  2019-04-30 10:00:51.5500  2019-05-01 07:57:01.2620   \n",
       "4          1128  2019-04-30 23:59:04.7390  2019-05-01 00:17:53.0910   \n",
       "\n",
       "   start_station_id                                 start_station_name  \\\n",
       "0             368.0                               Myrtle St at Polk St   \n",
       "1             246.0                              Berkeley Civic Center   \n",
       "2              64.0                               5th St at Brannan St   \n",
       "3              67.0  San Francisco Caltrain Station 2  (Townsend St...   \n",
       "4             124.0                              19th St at Florida St   \n",
       "\n",
       "   start_station_latitude  start_station_longitude  end_station_id  \\\n",
       "0               37.785434              -122.419622           324.0   \n",
       "1               37.869060              -122.270556           241.0   \n",
       "2               37.776754              -122.399018            64.0   \n",
       "3               37.776639              -122.395526            89.0   \n",
       "4               37.760447              -122.410807             5.0   \n",
       "\n",
       "                               end_station_name  end_station_latitude  \\\n",
       "0           Union Square (Powell St at Post St)             37.788300   \n",
       "1                            Ashby BART Station             37.852477   \n",
       "2                          5th St at Brannan St             37.776754   \n",
       "3                    Division St at Potrero Ave             37.769218   \n",
       "4  Powell St BART Station (Market St at 5th St)             37.783899   \n",
       "\n",
       "   end_station_longitude  bike_id   user_type bike_share_for_all_trip  \n",
       "0            -122.408531     2749  Subscriber                      No  \n",
       "1            -122.270213     2608    Customer                      No  \n",
       "2            -122.399018      258  Subscriber                      No  \n",
       "3            -122.407646     1974  Subscriber                      No  \n",
       "4            -122.408445      877  Subscriber                      No  "
      ]
     },
     "execution_count": 2,
     "metadata": {},
     "output_type": "execute_result"
    }
   ],
   "source": [
    "df = pd.read_csv('201904-fordgobike-tripdata.csv')\n",
    "df.head()"
   ]
  },
  {
   "cell_type": "code",
   "execution_count": 3,
   "metadata": {},
   "outputs": [
    {
     "data": {
      "text/html": [
       "<div>\n",
       "<style scoped>\n",
       "    .dataframe tbody tr th:only-of-type {\n",
       "        vertical-align: middle;\n",
       "    }\n",
       "\n",
       "    .dataframe tbody tr th {\n",
       "        vertical-align: top;\n",
       "    }\n",
       "\n",
       "    .dataframe thead th {\n",
       "        text-align: right;\n",
       "    }\n",
       "</style>\n",
       "<table border=\"1\" class=\"dataframe\">\n",
       "  <thead>\n",
       "    <tr style=\"text-align: right;\">\n",
       "      <th></th>\n",
       "      <th>duration_sec</th>\n",
       "      <th>start_time</th>\n",
       "      <th>end_time</th>\n",
       "      <th>start_station_id</th>\n",
       "      <th>start_station_name</th>\n",
       "      <th>start_station_latitude</th>\n",
       "      <th>start_station_longitude</th>\n",
       "      <th>end_station_id</th>\n",
       "      <th>end_station_name</th>\n",
       "      <th>end_station_latitude</th>\n",
       "      <th>end_station_longitude</th>\n",
       "      <th>bike_id</th>\n",
       "      <th>user_type</th>\n",
       "      <th>bike_share_for_all_trip</th>\n",
       "    </tr>\n",
       "  </thead>\n",
       "  <tbody>\n",
       "    <tr>\n",
       "      <th>239106</th>\n",
       "      <td>184</td>\n",
       "      <td>2019-04-01 00:09:17.5660</td>\n",
       "      <td>2019-04-01 00:12:22.5170</td>\n",
       "      <td>133.0</td>\n",
       "      <td>Valencia St at 22nd St</td>\n",
       "      <td>37.755213</td>\n",
       "      <td>-122.420975</td>\n",
       "      <td>132.0</td>\n",
       "      <td>24th St at Chattanooga St</td>\n",
       "      <td>37.751819</td>\n",
       "      <td>-122.426614</td>\n",
       "      <td>6430</td>\n",
       "      <td>Subscriber</td>\n",
       "      <td>No</td>\n",
       "    </tr>\n",
       "    <tr>\n",
       "      <th>239107</th>\n",
       "      <td>539</td>\n",
       "      <td>2019-04-01 00:03:02.5730</td>\n",
       "      <td>2019-04-01 00:12:02.0670</td>\n",
       "      <td>78.0</td>\n",
       "      <td>Folsom St at 9th St</td>\n",
       "      <td>37.773717</td>\n",
       "      <td>-122.411647</td>\n",
       "      <td>77.0</td>\n",
       "      <td>11th St at Natoma St</td>\n",
       "      <td>37.773507</td>\n",
       "      <td>-122.416040</td>\n",
       "      <td>4972</td>\n",
       "      <td>Subscriber</td>\n",
       "      <td>Yes</td>\n",
       "    </tr>\n",
       "    <tr>\n",
       "      <th>239108</th>\n",
       "      <td>292</td>\n",
       "      <td>2019-04-01 00:06:04.2370</td>\n",
       "      <td>2019-04-01 00:10:56.9850</td>\n",
       "      <td>243.0</td>\n",
       "      <td>Bancroft Way at College Ave</td>\n",
       "      <td>37.869360</td>\n",
       "      <td>-122.254337</td>\n",
       "      <td>269.0</td>\n",
       "      <td>Telegraph Ave at Carleton St</td>\n",
       "      <td>37.862320</td>\n",
       "      <td>-122.258801</td>\n",
       "      <td>3415</td>\n",
       "      <td>Subscriber</td>\n",
       "      <td>Yes</td>\n",
       "    </tr>\n",
       "    <tr>\n",
       "      <th>239109</th>\n",
       "      <td>471</td>\n",
       "      <td>2019-04-01 00:01:38.4110</td>\n",
       "      <td>2019-04-01 00:09:29.9650</td>\n",
       "      <td>370.0</td>\n",
       "      <td>Jones St at Post St</td>\n",
       "      <td>37.787327</td>\n",
       "      <td>-122.413278</td>\n",
       "      <td>43.0</td>\n",
       "      <td>San Francisco Public Library (Grove St at Hyde...</td>\n",
       "      <td>37.778768</td>\n",
       "      <td>-122.415929</td>\n",
       "      <td>5018</td>\n",
       "      <td>Subscriber</td>\n",
       "      <td>Yes</td>\n",
       "    </tr>\n",
       "    <tr>\n",
       "      <th>239110</th>\n",
       "      <td>356</td>\n",
       "      <td>2019-04-01 00:00:28.7290</td>\n",
       "      <td>2019-04-01 00:06:25.0650</td>\n",
       "      <td>14.0</td>\n",
       "      <td>Clay St at Battery St</td>\n",
       "      <td>37.795001</td>\n",
       "      <td>-122.399970</td>\n",
       "      <td>371.0</td>\n",
       "      <td>Lombard St at Columbus Ave</td>\n",
       "      <td>37.802746</td>\n",
       "      <td>-122.413579</td>\n",
       "      <td>5956</td>\n",
       "      <td>Subscriber</td>\n",
       "      <td>No</td>\n",
       "    </tr>\n",
       "  </tbody>\n",
       "</table>\n",
       "</div>"
      ],
      "text/plain": [
       "        duration_sec                start_time                  end_time  \\\n",
       "239106           184  2019-04-01 00:09:17.5660  2019-04-01 00:12:22.5170   \n",
       "239107           539  2019-04-01 00:03:02.5730  2019-04-01 00:12:02.0670   \n",
       "239108           292  2019-04-01 00:06:04.2370  2019-04-01 00:10:56.9850   \n",
       "239109           471  2019-04-01 00:01:38.4110  2019-04-01 00:09:29.9650   \n",
       "239110           356  2019-04-01 00:00:28.7290  2019-04-01 00:06:25.0650   \n",
       "\n",
       "        start_station_id           start_station_name  start_station_latitude  \\\n",
       "239106             133.0       Valencia St at 22nd St               37.755213   \n",
       "239107              78.0          Folsom St at 9th St               37.773717   \n",
       "239108             243.0  Bancroft Way at College Ave               37.869360   \n",
       "239109             370.0          Jones St at Post St               37.787327   \n",
       "239110              14.0        Clay St at Battery St               37.795001   \n",
       "\n",
       "        start_station_longitude  end_station_id  \\\n",
       "239106              -122.420975           132.0   \n",
       "239107              -122.411647            77.0   \n",
       "239108              -122.254337           269.0   \n",
       "239109              -122.413278            43.0   \n",
       "239110              -122.399970           371.0   \n",
       "\n",
       "                                         end_station_name  \\\n",
       "239106                          24th St at Chattanooga St   \n",
       "239107                               11th St at Natoma St   \n",
       "239108                       Telegraph Ave at Carleton St   \n",
       "239109  San Francisco Public Library (Grove St at Hyde...   \n",
       "239110                         Lombard St at Columbus Ave   \n",
       "\n",
       "        end_station_latitude  end_station_longitude  bike_id   user_type  \\\n",
       "239106             37.751819            -122.426614     6430  Subscriber   \n",
       "239107             37.773507            -122.416040     4972  Subscriber   \n",
       "239108             37.862320            -122.258801     3415  Subscriber   \n",
       "239109             37.778768            -122.415929     5018  Subscriber   \n",
       "239110             37.802746            -122.413579     5956  Subscriber   \n",
       "\n",
       "       bike_share_for_all_trip  \n",
       "239106                      No  \n",
       "239107                     Yes  \n",
       "239108                     Yes  \n",
       "239109                     Yes  \n",
       "239110                      No  "
      ]
     },
     "execution_count": 3,
     "metadata": {},
     "output_type": "execute_result"
    }
   ],
   "source": [
    "df.tail()"
   ]
  },
  {
   "cell_type": "code",
   "execution_count": 4,
   "metadata": {},
   "outputs": [
    {
     "data": {
      "text/plain": [
       "(239111, 14)"
      ]
     },
     "execution_count": 4,
     "metadata": {},
     "output_type": "execute_result"
    }
   ],
   "source": [
    "df.shape"
   ]
  },
  {
   "cell_type": "code",
   "execution_count": 5,
   "metadata": {},
   "outputs": [
    {
     "name": "stdout",
     "output_type": "stream",
     "text": [
      "<class 'pandas.core.frame.DataFrame'>\n",
      "RangeIndex: 239111 entries, 0 to 239110\n",
      "Data columns (total 14 columns):\n",
      " #   Column                   Non-Null Count   Dtype  \n",
      "---  ------                   --------------   -----  \n",
      " 0   duration_sec             239111 non-null  int64  \n",
      " 1   start_time               239111 non-null  object \n",
      " 2   end_time                 239111 non-null  object \n",
      " 3   start_station_id         239047 non-null  float64\n",
      " 4   start_station_name       239047 non-null  object \n",
      " 5   start_station_latitude   239111 non-null  float64\n",
      " 6   start_station_longitude  239111 non-null  float64\n",
      " 7   end_station_id           239047 non-null  float64\n",
      " 8   end_station_name         239047 non-null  object \n",
      " 9   end_station_latitude     239111 non-null  float64\n",
      " 10  end_station_longitude    239111 non-null  float64\n",
      " 11  bike_id                  239111 non-null  int64  \n",
      " 12  user_type                239111 non-null  object \n",
      " 13  bike_share_for_all_trip  239111 non-null  object \n",
      "dtypes: float64(6), int64(2), object(6)\n",
      "memory usage: 25.5+ MB\n"
     ]
    }
   ],
   "source": [
    "df.info()"
   ]
  },
  {
   "cell_type": "code",
   "execution_count": 6,
   "metadata": {},
   "outputs": [
    {
     "data": {
      "text/html": [
       "<div>\n",
       "<style scoped>\n",
       "    .dataframe tbody tr th:only-of-type {\n",
       "        vertical-align: middle;\n",
       "    }\n",
       "\n",
       "    .dataframe tbody tr th {\n",
       "        vertical-align: top;\n",
       "    }\n",
       "\n",
       "    .dataframe thead th {\n",
       "        text-align: right;\n",
       "    }\n",
       "</style>\n",
       "<table border=\"1\" class=\"dataframe\">\n",
       "  <thead>\n",
       "    <tr style=\"text-align: right;\">\n",
       "      <th></th>\n",
       "      <th>duration_sec</th>\n",
       "      <th>start_station_id</th>\n",
       "      <th>start_station_latitude</th>\n",
       "      <th>start_station_longitude</th>\n",
       "      <th>end_station_id</th>\n",
       "      <th>end_station_latitude</th>\n",
       "      <th>end_station_longitude</th>\n",
       "      <th>bike_id</th>\n",
       "    </tr>\n",
       "  </thead>\n",
       "  <tbody>\n",
       "    <tr>\n",
       "      <th>count</th>\n",
       "      <td>239111.000000</td>\n",
       "      <td>239047.000000</td>\n",
       "      <td>239111.000000</td>\n",
       "      <td>239111.000000</td>\n",
       "      <td>239047.000000</td>\n",
       "      <td>239111.000000</td>\n",
       "      <td>239111.000000</td>\n",
       "      <td>239111.000000</td>\n",
       "    </tr>\n",
       "    <tr>\n",
       "      <th>mean</th>\n",
       "      <td>802.671199</td>\n",
       "      <td>141.836538</td>\n",
       "      <td>37.769536</td>\n",
       "      <td>-122.352503</td>\n",
       "      <td>140.838099</td>\n",
       "      <td>37.766996</td>\n",
       "      <td>-122.343420</td>\n",
       "      <td>3666.956493</td>\n",
       "    </tr>\n",
       "    <tr>\n",
       "      <th>std</th>\n",
       "      <td>1990.006091</td>\n",
       "      <td>116.289776</td>\n",
       "      <td>0.127698</td>\n",
       "      <td>0.277088</td>\n",
       "      <td>116.386168</td>\n",
       "      <td>0.343083</td>\n",
       "      <td>1.068144</td>\n",
       "      <td>2180.717333</td>\n",
       "    </tr>\n",
       "    <tr>\n",
       "      <th>min</th>\n",
       "      <td>61.000000</td>\n",
       "      <td>3.000000</td>\n",
       "      <td>0.000000</td>\n",
       "      <td>-122.453704</td>\n",
       "      <td>3.000000</td>\n",
       "      <td>0.000000</td>\n",
       "      <td>-122.453704</td>\n",
       "      <td>11.000000</td>\n",
       "    </tr>\n",
       "    <tr>\n",
       "      <th>25%</th>\n",
       "      <td>349.000000</td>\n",
       "      <td>47.000000</td>\n",
       "      <td>37.770083</td>\n",
       "      <td>-122.413004</td>\n",
       "      <td>44.000000</td>\n",
       "      <td>37.770407</td>\n",
       "      <td>-122.411738</td>\n",
       "      <td>1720.000000</td>\n",
       "    </tr>\n",
       "    <tr>\n",
       "      <th>50%</th>\n",
       "      <td>558.000000</td>\n",
       "      <td>104.000000</td>\n",
       "      <td>37.780760</td>\n",
       "      <td>-122.398285</td>\n",
       "      <td>102.000000</td>\n",
       "      <td>37.780955</td>\n",
       "      <td>-122.397437</td>\n",
       "      <td>3471.000000</td>\n",
       "    </tr>\n",
       "    <tr>\n",
       "      <th>75%</th>\n",
       "      <td>876.000000</td>\n",
       "      <td>240.000000</td>\n",
       "      <td>37.797280</td>\n",
       "      <td>-122.291209</td>\n",
       "      <td>239.000000</td>\n",
       "      <td>37.797320</td>\n",
       "      <td>-122.291376</td>\n",
       "      <td>5749.000000</td>\n",
       "    </tr>\n",
       "    <tr>\n",
       "      <th>max</th>\n",
       "      <td>86114.000000</td>\n",
       "      <td>420.000000</td>\n",
       "      <td>37.880222</td>\n",
       "      <td>0.000000</td>\n",
       "      <td>420.000000</td>\n",
       "      <td>37.880222</td>\n",
       "      <td>0.000000</td>\n",
       "      <td>7108.000000</td>\n",
       "    </tr>\n",
       "  </tbody>\n",
       "</table>\n",
       "</div>"
      ],
      "text/plain": [
       "        duration_sec  start_station_id  start_station_latitude  \\\n",
       "count  239111.000000     239047.000000           239111.000000   \n",
       "mean      802.671199        141.836538               37.769536   \n",
       "std      1990.006091        116.289776                0.127698   \n",
       "min        61.000000          3.000000                0.000000   \n",
       "25%       349.000000         47.000000               37.770083   \n",
       "50%       558.000000        104.000000               37.780760   \n",
       "75%       876.000000        240.000000               37.797280   \n",
       "max     86114.000000        420.000000               37.880222   \n",
       "\n",
       "       start_station_longitude  end_station_id  end_station_latitude  \\\n",
       "count            239111.000000   239047.000000         239111.000000   \n",
       "mean               -122.352503      140.838099             37.766996   \n",
       "std                   0.277088      116.386168              0.343083   \n",
       "min                -122.453704        3.000000              0.000000   \n",
       "25%                -122.413004       44.000000             37.770407   \n",
       "50%                -122.398285      102.000000             37.780955   \n",
       "75%                -122.291209      239.000000             37.797320   \n",
       "max                   0.000000      420.000000             37.880222   \n",
       "\n",
       "       end_station_longitude        bike_id  \n",
       "count          239111.000000  239111.000000  \n",
       "mean             -122.343420    3666.956493  \n",
       "std                 1.068144    2180.717333  \n",
       "min              -122.453704      11.000000  \n",
       "25%              -122.411738    1720.000000  \n",
       "50%              -122.397437    3471.000000  \n",
       "75%              -122.291376    5749.000000  \n",
       "max                 0.000000    7108.000000  "
      ]
     },
     "execution_count": 6,
     "metadata": {},
     "output_type": "execute_result"
    }
   ],
   "source": [
    "df.describe()"
   ]
  },
  {
   "cell_type": "code",
   "execution_count": 7,
   "metadata": {},
   "outputs": [],
   "source": [
    "df_clean = df.copy()"
   ]
  },
  {
   "cell_type": "code",
   "execution_count": 8,
   "metadata": {},
   "outputs": [],
   "source": [
    "df_clean.start_time = pd.to_datetime(df_clean.start_time)\n",
    "df_clean.end_time = pd.to_datetime(df_clean.end_time)"
   ]
  },
  {
   "cell_type": "code",
   "execution_count": 9,
   "metadata": {},
   "outputs": [],
   "source": [
    "df_clean.bike_share_for_all_trip = (df_clean.bike_share_for_all_trip == 'Yes')"
   ]
  },
  {
   "cell_type": "code",
   "execution_count": 10,
   "metadata": {},
   "outputs": [],
   "source": [
    "df_clean.user_type = df_clean.user_type.astype('category')"
   ]
  },
  {
   "cell_type": "code",
   "execution_count": 11,
   "metadata": {},
   "outputs": [
    {
     "data": {
      "text/plain": [
       "duration_sec                 int64\n",
       "start_time                  object\n",
       "end_time                    object\n",
       "start_station_id           float64\n",
       "start_station_name          object\n",
       "start_station_latitude     float64\n",
       "start_station_longitude    float64\n",
       "end_station_id             float64\n",
       "end_station_name            object\n",
       "end_station_latitude       float64\n",
       "end_station_longitude      float64\n",
       "bike_id                      int64\n",
       "user_type                   object\n",
       "bike_share_for_all_trip     object\n",
       "dtype: object"
      ]
     },
     "execution_count": 11,
     "metadata": {},
     "output_type": "execute_result"
    }
   ],
   "source": [
    "df.dtypes"
   ]
  },
  {
   "cell_type": "code",
   "execution_count": 13,
   "metadata": {},
   "outputs": [],
   "source": [
    "df_clean['start_time_wkday'] = df_clean.start_time.dt.strftime('%a')"
   ]
  },
  {
   "cell_type": "code",
   "execution_count": 14,
   "metadata": {},
   "outputs": [],
   "source": [
    "# Start and end time hour\n",
    "df_clean['start_time_hour'] = df_clean.start_time.dt.hour\n",
    "df_clean['end_time_hour'] = df_clean.end_time.dt.hour"
   ]
  },
  {
   "cell_type": "code",
   "execution_count": 15,
   "metadata": {},
   "outputs": [],
   "source": [
    "# Duration in seconds to duration in minutes\n",
    "df_clean['duration_min'] = df_clean.duration_sec /60\n",
    "df_clean['duration_min'] = df_clean.duration_min.astype(int)"
   ]
  },
  {
   "cell_type": "code",
   "execution_count": 16,
   "metadata": {},
   "outputs": [
    {
     "data": {
      "text/html": [
       "<div>\n",
       "<style scoped>\n",
       "    .dataframe tbody tr th:only-of-type {\n",
       "        vertical-align: middle;\n",
       "    }\n",
       "\n",
       "    .dataframe tbody tr th {\n",
       "        vertical-align: top;\n",
       "    }\n",
       "\n",
       "    .dataframe thead th {\n",
       "        text-align: right;\n",
       "    }\n",
       "</style>\n",
       "<table border=\"1\" class=\"dataframe\">\n",
       "  <thead>\n",
       "    <tr style=\"text-align: right;\">\n",
       "      <th></th>\n",
       "      <th>duration_sec</th>\n",
       "      <th>start_time</th>\n",
       "      <th>end_time</th>\n",
       "      <th>start_station_id</th>\n",
       "      <th>start_station_name</th>\n",
       "      <th>start_station_latitude</th>\n",
       "      <th>start_station_longitude</th>\n",
       "      <th>end_station_id</th>\n",
       "      <th>end_station_name</th>\n",
       "      <th>end_station_latitude</th>\n",
       "      <th>end_station_longitude</th>\n",
       "      <th>bike_id</th>\n",
       "      <th>user_type</th>\n",
       "      <th>bike_share_for_all_trip</th>\n",
       "      <th>start_time_month</th>\n",
       "      <th>start_time_wkday</th>\n",
       "      <th>start_time_hour</th>\n",
       "      <th>end_time_hour</th>\n",
       "      <th>duration_min</th>\n",
       "    </tr>\n",
       "  </thead>\n",
       "  <tbody>\n",
       "    <tr>\n",
       "      <th>0</th>\n",
       "      <td>50305</td>\n",
       "      <td>2019-04-30 22:33:55.155</td>\n",
       "      <td>2019-05-01 12:32:20.454</td>\n",
       "      <td>368.0</td>\n",
       "      <td>Myrtle St at Polk St</td>\n",
       "      <td>37.785434</td>\n",
       "      <td>-122.419622</td>\n",
       "      <td>324.0</td>\n",
       "      <td>Union Square (Powell St at Post St)</td>\n",
       "      <td>37.788300</td>\n",
       "      <td>-122.408531</td>\n",
       "      <td>2749</td>\n",
       "      <td>Subscriber</td>\n",
       "      <td>False</td>\n",
       "      <td>April</td>\n",
       "      <td>Tue</td>\n",
       "      <td>22</td>\n",
       "      <td>12</td>\n",
       "      <td>838</td>\n",
       "    </tr>\n",
       "    <tr>\n",
       "      <th>1</th>\n",
       "      <td>53725</td>\n",
       "      <td>2019-04-30 20:43:41.632</td>\n",
       "      <td>2019-05-01 11:39:06.917</td>\n",
       "      <td>246.0</td>\n",
       "      <td>Berkeley Civic Center</td>\n",
       "      <td>37.869060</td>\n",
       "      <td>-122.270556</td>\n",
       "      <td>241.0</td>\n",
       "      <td>Ashby BART Station</td>\n",
       "      <td>37.852477</td>\n",
       "      <td>-122.270213</td>\n",
       "      <td>2608</td>\n",
       "      <td>Customer</td>\n",
       "      <td>False</td>\n",
       "      <td>April</td>\n",
       "      <td>Tue</td>\n",
       "      <td>20</td>\n",
       "      <td>11</td>\n",
       "      <td>895</td>\n",
       "    </tr>\n",
       "    <tr>\n",
       "      <th>2</th>\n",
       "      <td>78072</td>\n",
       "      <td>2019-04-30 10:32:46.489</td>\n",
       "      <td>2019-05-01 08:13:58.975</td>\n",
       "      <td>64.0</td>\n",
       "      <td>5th St at Brannan St</td>\n",
       "      <td>37.776754</td>\n",
       "      <td>-122.399018</td>\n",
       "      <td>64.0</td>\n",
       "      <td>5th St at Brannan St</td>\n",
       "      <td>37.776754</td>\n",
       "      <td>-122.399018</td>\n",
       "      <td>258</td>\n",
       "      <td>Subscriber</td>\n",
       "      <td>False</td>\n",
       "      <td>April</td>\n",
       "      <td>Tue</td>\n",
       "      <td>10</td>\n",
       "      <td>8</td>\n",
       "      <td>1301</td>\n",
       "    </tr>\n",
       "    <tr>\n",
       "      <th>3</th>\n",
       "      <td>78969</td>\n",
       "      <td>2019-04-30 10:00:51.550</td>\n",
       "      <td>2019-05-01 07:57:01.262</td>\n",
       "      <td>67.0</td>\n",
       "      <td>San Francisco Caltrain Station 2  (Townsend St...</td>\n",
       "      <td>37.776639</td>\n",
       "      <td>-122.395526</td>\n",
       "      <td>89.0</td>\n",
       "      <td>Division St at Potrero Ave</td>\n",
       "      <td>37.769218</td>\n",
       "      <td>-122.407646</td>\n",
       "      <td>1974</td>\n",
       "      <td>Subscriber</td>\n",
       "      <td>False</td>\n",
       "      <td>April</td>\n",
       "      <td>Tue</td>\n",
       "      <td>10</td>\n",
       "      <td>7</td>\n",
       "      <td>1316</td>\n",
       "    </tr>\n",
       "    <tr>\n",
       "      <th>4</th>\n",
       "      <td>1128</td>\n",
       "      <td>2019-04-30 23:59:04.739</td>\n",
       "      <td>2019-05-01 00:17:53.091</td>\n",
       "      <td>124.0</td>\n",
       "      <td>19th St at Florida St</td>\n",
       "      <td>37.760447</td>\n",
       "      <td>-122.410807</td>\n",
       "      <td>5.0</td>\n",
       "      <td>Powell St BART Station (Market St at 5th St)</td>\n",
       "      <td>37.783899</td>\n",
       "      <td>-122.408445</td>\n",
       "      <td>877</td>\n",
       "      <td>Subscriber</td>\n",
       "      <td>False</td>\n",
       "      <td>April</td>\n",
       "      <td>Tue</td>\n",
       "      <td>23</td>\n",
       "      <td>0</td>\n",
       "      <td>18</td>\n",
       "    </tr>\n",
       "  </tbody>\n",
       "</table>\n",
       "</div>"
      ],
      "text/plain": [
       "   duration_sec              start_time                end_time  \\\n",
       "0         50305 2019-04-30 22:33:55.155 2019-05-01 12:32:20.454   \n",
       "1         53725 2019-04-30 20:43:41.632 2019-05-01 11:39:06.917   \n",
       "2         78072 2019-04-30 10:32:46.489 2019-05-01 08:13:58.975   \n",
       "3         78969 2019-04-30 10:00:51.550 2019-05-01 07:57:01.262   \n",
       "4          1128 2019-04-30 23:59:04.739 2019-05-01 00:17:53.091   \n",
       "\n",
       "   start_station_id                                 start_station_name  \\\n",
       "0             368.0                               Myrtle St at Polk St   \n",
       "1             246.0                              Berkeley Civic Center   \n",
       "2              64.0                               5th St at Brannan St   \n",
       "3              67.0  San Francisco Caltrain Station 2  (Townsend St...   \n",
       "4             124.0                              19th St at Florida St   \n",
       "\n",
       "   start_station_latitude  start_station_longitude  end_station_id  \\\n",
       "0               37.785434              -122.419622           324.0   \n",
       "1               37.869060              -122.270556           241.0   \n",
       "2               37.776754              -122.399018            64.0   \n",
       "3               37.776639              -122.395526            89.0   \n",
       "4               37.760447              -122.410807             5.0   \n",
       "\n",
       "                               end_station_name  end_station_latitude  \\\n",
       "0           Union Square (Powell St at Post St)             37.788300   \n",
       "1                            Ashby BART Station             37.852477   \n",
       "2                          5th St at Brannan St             37.776754   \n",
       "3                    Division St at Potrero Ave             37.769218   \n",
       "4  Powell St BART Station (Market St at 5th St)             37.783899   \n",
       "\n",
       "   end_station_longitude  bike_id   user_type  bike_share_for_all_trip  \\\n",
       "0            -122.408531     2749  Subscriber                    False   \n",
       "1            -122.270213     2608    Customer                    False   \n",
       "2            -122.399018      258  Subscriber                    False   \n",
       "3            -122.407646     1974  Subscriber                    False   \n",
       "4            -122.408445      877  Subscriber                    False   \n",
       "\n",
       "  start_time_month start_time_wkday  start_time_hour  end_time_hour  \\\n",
       "0            April              Tue               22             12   \n",
       "1            April              Tue               20             11   \n",
       "2            April              Tue               10              8   \n",
       "3            April              Tue               10              7   \n",
       "4            April              Tue               23              0   \n",
       "\n",
       "   duration_min  \n",
       "0           838  \n",
       "1           895  \n",
       "2          1301  \n",
       "3          1316  \n",
       "4            18  "
      ]
     },
     "execution_count": 16,
     "metadata": {},
     "output_type": "execute_result"
    }
   ],
   "source": [
    "df_clean.head()"
   ]
  },
  {
   "cell_type": "code",
   "execution_count": 17,
   "metadata": {},
   "outputs": [
    {
     "name": "stdout",
     "output_type": "stream",
     "text": [
      "<class 'pandas.core.frame.DataFrame'>\n",
      "RangeIndex: 239111 entries, 0 to 239110\n",
      "Data columns (total 19 columns):\n",
      " #   Column                   Non-Null Count   Dtype         \n",
      "---  ------                   --------------   -----         \n",
      " 0   duration_sec             239111 non-null  int64         \n",
      " 1   start_time               239111 non-null  datetime64[ns]\n",
      " 2   end_time                 239111 non-null  datetime64[ns]\n",
      " 3   start_station_id         239047 non-null  float64       \n",
      " 4   start_station_name       239047 non-null  object        \n",
      " 5   start_station_latitude   239111 non-null  float64       \n",
      " 6   start_station_longitude  239111 non-null  float64       \n",
      " 7   end_station_id           239047 non-null  float64       \n",
      " 8   end_station_name         239047 non-null  object        \n",
      " 9   end_station_latitude     239111 non-null  float64       \n",
      " 10  end_station_longitude    239111 non-null  float64       \n",
      " 11  bike_id                  239111 non-null  int64         \n",
      " 12  user_type                239111 non-null  category      \n",
      " 13  bike_share_for_all_trip  239111 non-null  bool          \n",
      " 14  start_time_month         239111 non-null  object        \n",
      " 15  start_time_wkday         239111 non-null  object        \n",
      " 16  start_time_hour          239111 non-null  int64         \n",
      " 17  end_time_hour            239111 non-null  int64         \n",
      " 18  duration_min             239111 non-null  int32         \n",
      "dtypes: bool(1), category(1), datetime64[ns](2), float64(6), int32(1), int64(4), object(4)\n",
      "memory usage: 30.6+ MB\n"
     ]
    }
   ],
   "source": [
    "df_clean.info()"
   ]
  },
  {
   "cell_type": "code",
   "execution_count": 100,
   "metadata": {},
   "outputs": [],
   "source": [
    "df_clean.to_csv('master_clean.csv', index= False)"
   ]
  },
  {
   "cell_type": "markdown",
   "metadata": {},
   "source": [
    "### What is the structure of your dataset?\n",
    "\n",
    "> There are 183,412 data trips for fordgobike in the dataset with 19 features. 11 variable are numeric, and others are 2 datetime, 5 object type and 1 is boolean type.\n",
    "\n",
    "### What is/are the main feature(s) of interest in your dataset?\n",
    "\n",
    "> The most interesting feature are the station, start time and end time and it's relationship with the other features. This information can help with business decision like \"What Station need to have the most bike available and at what days and time\"\n",
    "\n",
    "### What features in the dataset do you think will help support your investigation into your feature(s) of interest?\n",
    "\n",
    "> Station and the time are going to be the features that help support my investigations of interest."
   ]
  },
  {
   "cell_type": "code",
   "execution_count": 23,
   "metadata": {},
   "outputs": [],
   "source": [
    "#Helps have a better data-ink ration by reducing distracting \n",
    "base_color = sb.color_palette()[0]"
   ]
  },
  {
   "cell_type": "markdown",
   "metadata": {},
   "source": [
    "## Univariate Exploration\n",
    "\n",
    "> For this section I am going to use a histogram to see distribution of trips by seconds and minutes."
   ]
  },
  {
   "cell_type": "code",
   "execution_count": 22,
   "metadata": {
    "scrolled": true
   },
   "outputs": [
    {
     "data": {
      "image/png": "[encoded data removed]",
      "text/plain": [
       "<Figure size 432x288 with 1 Axes>"
      ]
     },
     "metadata": {
      "needs_background": "light"
     },
     "output_type": "display_data"
    }
   ],
   "source": [
    "bin_edges = np.arange(0, 3600, 60)\n",
    "\n",
    "plt.hist(data = df_clean, x = 'duration_sec', bins = bin_edges);\n",
    "plt.title('Distribution of Trip Durations', fontsize=16, fontweight='bold')\n",
    "plt.xlabel('duration_sec')\n",
    "plt.ylabel('Number of Trips')\n",
    "plt.show()"
   ]
  },
  {
   "cell_type": "code",
   "execution_count": 21,
   "metadata": {},
   "outputs": [
    {
     "data": {
      "image/png": "[encoded data removed]",
      "text/plain": [
       "<Figure size 432x288 with 1 Axes>"
      ]
     },
     "metadata": {
      "needs_background": "light"
     },
     "output_type": "display_data"
    }
   ],
   "source": [
    "bin_edges = np.arange(0, 45, 1)\n",
    "ticks = [0, 5, 10, 15, 20, 25, 30,  35, 40, 45]\n",
    "labels = ['{}'.format(val) for val in ticks]\n",
    "\n",
    "sb.distplot(df_clean['duration_min'], bins = bin_edges, kde = False, hist_kws = {'alpha' : 1});\n",
    "plt.title(\"Trip Duration in Minutes\", y=1.05, fontsize=16, fontweight='bold');\n",
    "plt.xlabel('Duration (Min)')\n",
    "plt.xticks(ticks, labels)\n",
    "plt.ylabel('Number of Bike Trips');"
   ]
  },
  {
   "cell_type": "markdown",
   "metadata": {},
   "source": [
    "#### The Average trip is just under 13 minutes. Looking at the histogram, most rides are between 3 to 11 minutes. This suggest that the majority of user using the bikes for short distances or period of times."
   ]
  },
  {
   "cell_type": "code",
   "execution_count": 32,
   "metadata": {},
   "outputs": [
    {
     "data": {
      "image/png": "[encoded data removed]",
      "text/plain": [
       "<Figure size 432x288 with 1 Axes>"
      ]
     },
     "metadata": {
      "needs_background": "light"
     },
     "output_type": "display_data"
    }
   ],
   "source": [
    "weekday = ['Mon', 'Tue', 'Wed', 'Thu', 'Fri', 'Sat', 'Sun']\n",
    "sb.countplot(data=df_clean, x='start_time_wkday', color=base_color, order= weekday);\n",
    "plt.xlabel('Day of Week');\n",
    "plt.ylabel('Number of Rides');"
   ]
  },
  {
   "cell_type": "markdown",
   "metadata": {},
   "source": [
    "#### Tuesdays and Mondays seem to be the most popular days of the week for using the bike sharing system, however Wednesday, Thursday and Friday are also fairly popular. We can see a usage decrease on weekends suggesting that the bike systems is used mainly for communting during the regular working days."
   ]
  },
  {
   "cell_type": "code",
   "execution_count": 38,
   "metadata": {},
   "outputs": [
    {
     "data": {
      "image/png": "[encoded data removed]",
      "text/plain": [
       "<Figure size 432x288 with 1 Axes>"
      ]
     },
     "metadata": {
      "needs_background": "light"
     },
     "output_type": "display_data"
    }
   ],
   "source": [
    "sb.countplot(data=df_clean, x='start_time_hour', color=base_color);\n",
    "plt.xlabel('Hours');\n",
    "plt.ylabel('Number of Rides');"
   ]
  },
  {
   "cell_type": "markdown",
   "metadata": {},
   "source": [
    "#### We can see the chart displays a bimodial distribution with the peak 8-9am and 5-6. That is a the normal schedule in the United State for going in to work and leaving."
   ]
  },
  {
   "cell_type": "markdown",
   "metadata": {},
   "source": [
    "### Discuss the distribution(s) of your variable(s) of interest. Were there any unusual points? Did you need to perform any transformations?\n",
    "\n",
    "> I did do some feature engineering in order to displays the most popular day, hour and minutes in a chart since is was only given in a single format. They were a few outlier in the trip_duration variable were suppossedly some rode a bike for 23hours straight. In terms of time the distribution was mainly right-skewed.\n",
    "\n",
    "### Of the features you investigated, were there any unusual distributions? Did you perform any operations on the data to tidy, adjust, or change the form of the data? If so, why did you do this?\n",
    "\n",
    ">No distribution seem out of the ordinary. Right now I was able to deduce that the primary user of the bike sharing system is the people from the working age range."
   ]
  },
  {
   "cell_type": "markdown",
   "metadata": {},
   "source": [
    "## Bivariate Exploration\n",
    "\n",
    "> In this section, investigate relationships between pairs of variables in your\n",
    "data."
   ]
  },
  {
   "cell_type": "code",
   "execution_count": 40,
   "metadata": {},
   "outputs": [],
   "source": [
    "#Making preparations to present the data in a donut chart\n",
    "customer = df_clean.query('user_type == \"Customer\"')['bike_id'].count()\n",
    "subscriber = df_clean.query('user_type == \"Subscriber\"')['bike_id'].count()\n",
    "customer_prop = customer / df_clean['bike_id'].count()\n",
    "subscriber_prop = subscriber / df_clean['bike_id'].count()"
   ]
  },
  {
   "cell_type": "code",
   "execution_count": 57,
   "metadata": {},
   "outputs": [
    {
     "data": {
      "image/png": "[encoded data removed]",
      "text/plain": [
       "<Figure size 720x360 with 1 Axes>"
      ]
     },
     "metadata": {
      "needs_background": "light"
     },
     "output_type": "display_data"
    }
   ],
   "source": [
    "# bar chart\n",
    "plt.figure(figsize = [10, 5])\n",
    "\n",
    "sb.countplot(data = df_clean, x = \"user_type\", order = df_clean.user_type.value_counts().index, color=base_color);\n",
    "plt.xlabel('User Type');\n",
    "plt.ylabel('Number of Bike Trips');\n",
    "plt.title('Customers vs. Subscribers', fontsize=16, fontweight='bold');"
   ]
  },
  {
   "cell_type": "code",
   "execution_count": 51,
   "metadata": {},
   "outputs": [
    {
     "data": {
      "image/png": "[encoded data removed]",
      "text/plain": [
       "<Figure size 720x360 with 1 Axes>"
      ]
     },
     "metadata": {
      "needs_background": "light"
     },
     "output_type": "display_data"
    }
   ],
   "source": [
    "plt.figure(figsize = [10, 5])\n",
    "sb.boxplot(data = df_clean, x = 'user_type', y = 'duration_min', color = base_color)\n",
    "plt.ylim([0, 60])\n",
    "plt.title('Trip Duration and User Type')\n",
    "plt.xlabel('User Type')\n",
    "plt.ylabel('Duration (Min)')\n",
    "plt.show()"
   ]
  },
  {
   "cell_type": "markdown",
   "metadata": {},
   "source": [
    "#### Interestingly, we can see that higher percentage of customer rides longer trips then subscriber although number of subscriber riders are very high then customer."
   ]
  },
  {
   "cell_type": "code",
   "execution_count": 65,
   "metadata": {},
   "outputs": [
    {
     "data": {
      "image/png": "[encoded data removed]",
      "text/plain": [
       "<Figure size 864x360 with 1 Axes>"
      ]
     },
     "metadata": {
      "needs_background": "light"
     },
     "output_type": "display_data"
    }
   ],
   "source": [
    "plt.figure(figsize=(12, 5))\n",
    "\n",
    "df_clean_user_week = df_clean.groupby(['start_time_wkday', 'user_type']).size().reset_index()\n",
    "weekday = ['Mon', 'Tue', 'Wed', 'Thu', 'Fri', 'Sat', 'Sun']\n",
    "\n",
    "ax = sb.pointplot(data=df_clean_user_week, x='start_time_wkday', y=0, hue = 'user_type', scale=.7, order = weekday);\n",
    "\n",
    "plt.title('Trends by User Type', fontsize=16, fontweight='bold')\n",
    "plt.xlabel('Weekdays', fontsize=14)\n",
    "plt.ylabel('Number of Bike Trips', fontsize=14);"
   ]
  },
  {
   "cell_type": "markdown",
   "metadata": {},
   "source": [
    "#### The point plot above help us visualize how customer usage differes from subscribers. We can see that subscribers have a decline in usage in the weekends, however with customers we can see a small spike in usage specially on Saturdays."
   ]
  },
  {
   "cell_type": "markdown",
   "metadata": {},
   "source": [
    "### Talk about some of the relationships you observed in this part of the investigation. How did the feature(s) of interest vary with other features in the dataset?\n",
    "\n",
    "> We were able to observe how subscriber are mainly commuters that are mostly going to use the system to go to work or school and the mostly rent bikes around normal 9 to 5 schedules\n",
    "\n",
    "### Did you observe any interesting relationships between the other features (not the main feature(s) of interest)?\n",
    "\n",
    "> I observed that even tho there are more subscriber than customers, customer ride duration last longer than does from subscriber."
   ]
  },
  {
   "cell_type": "markdown",
   "metadata": {},
   "source": [
    "## Multivariate Exploration\n"
   ]
  },
  {
   "cell_type": "code",
   "execution_count": 99,
   "metadata": {},
   "outputs": [
    {
     "data": {
      "image/png": "[encoded data removed]",
      "text/plain": [
       "<Figure size 720x360 with 4 Axes>"
      ]
     },
     "metadata": {
      "needs_background": "light"
     },
     "output_type": "display_data"
    }
   ],
   "source": [
    "weekday = ['Mon', 'Tue', 'Wed', 'Thu', 'Fri', 'Sat', 'Sun']\n",
    "df_clean['start_time_wkday'] = pd.Categorical(df_clean.start_time_wkday, categories= ['Mon', 'Tue', 'Wed', 'Thu', 'Fri', 'Sat', 'Sun'], ordered=True);\n",
    "\n",
    "plt.figure(figsize=[10,5])\n",
    "\n",
    "# Heatmap - Customers\n",
    "plt.subplot(1, 2, 1)\n",
    "df_customer = df_clean.query('user_type == \"Customer\"').groupby(['start_time_hour', 'start_time_wkday'])['bike_id'].size().reset_index();\n",
    "df_customer = df_customer.pivot('start_time_hour', 'start_time_wkday', 'bike_id')\n",
    "\n",
    "heat_map = sb.heatmap(df_customer, cmap = 'viridis_r')\n",
    "\n",
    "plt.title('Customer')\n",
    "plt.xlabel('Weekday', labelpad = 10)\n",
    "plt.ylabel('Start Time Hour',  labelpad = 10)\n",
    "plt.tight_layout()\n",
    "\n",
    "           \n",
    "# Weekday order\n",
    "weekday = ['Mon', 'Tue', 'Wed', 'Thu', 'Fri', 'Sat', 'Sun']\n",
    "df_clean['start_time_weekday'] = pd.Categorical(df_clean['start_time_wkday'], categories= ['Mon', 'Tue', 'Wed', 'Thu', 'Fri', 'Sat', 'Sun'], ordered=True);\n",
    "\n",
    "# Heatmap - subscriber\n",
    "plt.subplot(1, 2, 2)\n",
    "df_sub = df_clean.query('user_type == \"Subscriber\"').groupby(['start_time_hour', 'start_time_wkday'])['bike_id'].size().reset_index();\n",
    "df_sub = df_sub.pivot('start_time_hour', 'start_time_wkday', 'bike_id')\n",
    "\n",
    "heat_map = sb.heatmap(df_sub, cmap = 'viridis_r')\n",
    "\n",
    "plt.title('Subscriber')\n",
    "plt.xlabel('Weekday', labelpad = 10)\n",
    "plt.ylabel('Start Time Hour',  labelpad = 10)\n",
    "plt.tight_layout()\n",
    "plt.show()\n",
    "\n"
   ]
  },
  {
   "cell_type": "markdown",
   "metadata": {},
   "source": [
    "\n",
    "\n",
    "> The heatmap failed to unveil novel insights regarding the temporal patterns of bike sharing system utilization among distinct user groups. As previously observed, there is a contrast in the usage patterns between Customers and Subscribers, with the former utilizing the system predominantly at times opposite to those favored by the latter.\n"
   ]
  },
  {
   "cell_type": "code",
   "execution_count": null,
   "metadata": {},
   "outputs": [],
   "source": []
  }
 ],
 "metadata": {
  "kernelspec": {
   "display_name": "Python 3",
   "language": "python",
   "name": "python3"
  },
  "language_info": {
   "codemirror_mode": {
    "name": "ipython",
    "version": 3
   },
   "file_extension": ".py",
   "mimetype": "text/x-python",
   "name": "python",
   "nbconvert_exporter": "python",
   "pygments_lexer": "ipython3",
   "version": "3.6.10"
  }
 },
 "nbformat": 4,
 "nbformat_minor": 2
}
